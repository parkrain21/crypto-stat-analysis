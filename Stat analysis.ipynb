{
 "cells": [
  {
   "cell_type": "code",
   "execution_count": 1,
   "metadata": {},
   "outputs": [],
   "source": [
    "from binance.client import Client\n",
    "from binance.enums import HistoricalKlinesType\n",
    "from binance.exceptions import BinanceAPIException\n",
    "import time\n",
    "import numpy as np\n",
    "import pandas as pd\n",
    "import matplotlib.pyplot as plt\n",
    "import seaborn as sns"
   ]
  },
  {
   "cell_type": "markdown",
   "metadata": {},
   "source": [
    "### Initalize Client\n",
    "Please plug-in your API Key and Secret Key from Binance API dashboard."
   ]
  },
  {
   "cell_type": "code",
   "execution_count": 9,
   "metadata": {},
   "outputs": [],
   "source": [
    "#Please remove this import statement if you don't store your keys in a separate .py file.\n",
    "from keys import *          \n",
    "\n",
    "client = Client(API_KEY,API_SECRET, testnet=False)"
   ]
  },
  {
   "cell_type": "markdown",
   "metadata": {},
   "source": [
    "### Generate Price Data Function"
   ]
  },
  {
   "cell_type": "code",
   "execution_count": 11,
   "metadata": {},
   "outputs": [],
   "source": [
    "def getPriceData(pair, interval, window, sf='SPOT'):\n",
    "    # Timeframe shall be 1m, 3m, 1h, 4h, etc.\n",
    "\n",
    "    if sf == 'SPOT': \n",
    "        sf = HistoricalKlinesType.SPOT\n",
    "    if sf == 'FUTURES': \n",
    "        sf = HistoricalKlinesType.FUTURES\n",
    "    \n",
    "    try:\n",
    "        df = pd.DataFrame(client.get_historical_klines(pair, interval, window, klines_type=sf))\n",
    "    except BinanceAPIException as e:\n",
    "        print(e.message)\n",
    "        time.sleep(60)\n",
    "        df = pd.DataFrame(client.get_historical_klines(pair, interval, window, klines_type=sf))\n",
    "    df = df.iloc[:,:6]\n",
    "    df.columns = ['Time', 'Open', 'High', 'Low', 'Close', 'Volume']\n",
    "    df['Time'] = pd.to_datetime(df['Time'], unit='ms')\n",
    "    df.set_index('Time', inplace=True)\n",
    "    df = df.astype(float)\n",
    "    df['pct'] = df['Close'].pct_change()\n",
    "    df['bodySpread'] = abs(df['Close'] - df['Open'])\n",
    "    df['candleSpread'] = abs(df['High'] - df['Low'])\n",
    "\n",
    "    # Return the trimmed dataframe containing only the OHLCV values + time as index.\n",
    "    return df\n"
   ]
  },
  {
   "cell_type": "code",
   "execution_count": null,
   "metadata": {},
   "outputs": [],
   "source": [
    "# eth = getPriceData('ETHUSDT', '5m', '3 days ago', sf='SPOT')\n",
    "# eth['pctMA'] = eth.pct.rolling(3).mean()\n",
    "# eth.dropna(inplace=True)"
   ]
  },
  {
   "cell_type": "code",
   "execution_count": null,
   "metadata": {},
   "outputs": [],
   "source": [
    "# plt.figure(figsize=(15,10))\n",
    "# plt.plot(eth.tail(10).pct)\n",
    "# plt.axhline(y=0, color='r', linestyle='-')\n",
    "# plt.plot(eth.tail(10).pctMA)\n",
    "# plt.show()"
   ]
  },
  {
   "cell_type": "markdown",
   "metadata": {},
   "source": [
    "### Volume frequency analysis functions\n",
    "- getVolumeStat_DOW(pair) shows the average volume for the past 2 years, by Day of Week\n",
    "- getVolumeStat_HR(pair) shows the average volume for the past 2 years, by Hour (GMT +8)"
   ]
  },
  {
   "cell_type": "code",
   "execution_count": 12,
   "metadata": {},
   "outputs": [],
   "source": [
    "days = ['Monday', 'Tuesday', 'Wednesday', 'Thursday', 'Friday', 'Saturday', 'Sunday']\n",
    "\n",
    "def getVolumeStat_DOW(pair):\n",
    "    pd.options.display.float_format = '{:.2f}'.format\n",
    "\n",
    "    prices = getPriceData(pair, '15m', '2 years ago UTC')\n",
    "    prices['DOW'] = prices.index.day_of_week\n",
    "    prices['Volume'] = prices['Volume'].astype(float)\n",
    "    prices['DOWname'] = [days[d] for d in prices['DOW']]\n",
    "\n",
    "    vols = prices.iloc[:,4:]\n",
    "    vols = vols.groupby(['DOW','DOWname']).median().reset_index()\n",
    "\n",
    "    plt.figure(figsize=[10,5])\n",
    "    plt.title(f'{pair} Volume distribution')\n",
    "    plt.bar(vols['DOWname'], vols['Volume'])\n",
    "    plt.show()\n",
    "\n",
    "def getVolumeStat_HR(pair):\n",
    "    pd.options.display.float_format = '{:.2f}'.format\n",
    "\n",
    "    # Volume weights per hour\n",
    "    prices = getPriceData(pair, '15m', '2 years ago UTC')\n",
    "    prices['Hour'] = prices.index.hour\n",
    "    prices['Volume'] = prices['Volume'].astype(float)\n",
    "\n",
    "    vols = prices.loc[:,['Hour','Volume']]\n",
    "    vols = vols.groupby(['Hour']).mean().reset_index()\n",
    "    vols['Time'] = [f'{x+8}:00' if x < 17 else f'{x+8-24}:00' for x in vols['Hour']]\n",
    "    \n",
    "\n",
    "    highest = vols['Volume'] == vols['Volume'].max()\n",
    "    lowest = vols['Volume'] == vols['Volume'].min()\n",
    "\n",
    "    print(f'Highest average volume in a trading day is {vols[highest].Time.values[0]}')\n",
    "    print(f'Lowest average volume in a trading day is {vols[lowest].Time.values[0]}')\n",
    "\n",
    "    plt.figure(figsize=[15,5])\n",
    "    plt.title(f'{pair} Volume distribution by hours')\n",
    "    plt.bar(vols['Time'], vols['Volume'])\n",
    "    plt.show()"
   ]
  },
  {
   "cell_type": "markdown",
   "metadata": {},
   "source": [
    "### Correlation Analysis\n",
    "We could highly conclude that the percentage change per candle has NO CORRELATION whatsoever with any of the variables (OHLC, Volume, spread)"
   ]
  },
  {
   "cell_type": "code",
   "execution_count": 13,
   "metadata": {},
   "outputs": [],
   "source": [
    "def top_30_pairs():\n",
    "    sample = pd.DataFrame(client.get_ticker())\n",
    "    sample = sample.astype({'lastPrice': 'float', 'volume': 'float'})\n",
    "    sample['USDvol'] = sample.lastPrice * sample.volume\n",
    "    sample = sample[sample['symbol'].str.contains('USDT$', regex=True)]\n",
    "    sample.sort_values(by='USDvol', ascending=False, inplace=True)\n",
    "\n",
    "    top_volume_pairs = pd.DataFrame(sample.iloc[:30,0]).reset_index()\n",
    "    return top_volume_pairs"
   ]
  },
  {
   "cell_type": "code",
   "execution_count": 20,
   "metadata": {},
   "outputs": [],
   "source": [
    "def btc_corr():\n",
    "    df = top_30_pairs()\n",
    "    df = [x for x in df.symbol]\n",
    "    \n",
    "    corr_df = pd.DataFrame()\n",
    "\n",
    "    for pair in df:\n",
    "        temp_df = getPriceData(pair, '1h', '30 days ago', sf='SPOT')\n",
    "        corr_df[pair] = temp_df['Close'].loc[:]\n",
    "\n",
    "    full_corr = corr_df.corr()\n",
    "    btc_corr = pd.DataFrame(full_corr.iloc[:,0])\n",
    "\n",
    "    return btc_corr\n",
    "\n",
    "def volume_price_corr(pair,n=0):\n",
    "    df = getPriceData(pair, '1d', '5 years ago', sf='SPOT')\n",
    "    df['pctVol'] = df.Volume.pct_change()\n",
    "    df['n_open'] = df.Open.shift(n)\n",
    "    df['n_high'] = df.High.shift(n)\n",
    "    df['n_low'] = df.Low.shift(n)\n",
    "    df['n_close'] = df.Close.shift(n)\n",
    "    df.dropna(inplace=True)\n",
    "\n",
    "    plt.figure(figsize=(12,10))\n",
    "    sns.heatmap(df.corr())\n",
    "    # plt.scatter(df.n_close, df.Close)\n",
    "    plt.show()\n"
   ]
  },
  {
   "cell_type": "code",
   "execution_count": null,
   "metadata": {},
   "outputs": [],
   "source": [
    "# Shows the correlation heatmap of different variables\n",
    "volume_price_corr('ETHUSDT', 5)"
   ]
  },
  {
   "cell_type": "code",
   "execution_count": null,
   "metadata": {},
   "outputs": [],
   "source": [
    "# Show correlation Heatmap of top 30 CC in volume\n",
    "fig, ax = plt.subplots(figsize=(15,10))\n",
    "sns.heatmap(btc_corr(), ax=ax)"
   ]
  },
  {
   "cell_type": "code",
   "execution_count": null,
   "metadata": {},
   "outputs": [],
   "source": [
    "# Show top 30 CC with High BTC Correlation\n",
    "df = btc_corr()\n",
    "df_most_correlated = df.sort_values(by='BTCUSDT', ascending=False)"
   ]
  },
  {
   "cell_type": "code",
   "execution_count": null,
   "metadata": {},
   "outputs": [],
   "source": [
    "f, ax = plt.subplots(figsize=(10, 15))\n",
    "sns.barplot(df_most_correlated['BTCUSDT'], df.index)"
   ]
  },
  {
   "cell_type": "code",
   "execution_count": null,
   "metadata": {},
   "outputs": [],
   "source": [
    "f, ax = plt.subplots(figsize=(10, 15))\n",
    "sns.barplot(df['BTCUSDT'], df.index)"
   ]
  }
 ],
 "metadata": {
  "interpreter": {
   "hash": "cefd5609d3993cc4abb5447d8f3046d29449227496290d1e9f38c63747b55967"
  },
  "kernelspec": {
   "display_name": "Python 3.10.0 64-bit",
   "language": "python",
   "name": "python3"
  },
  "language_info": {
   "codemirror_mode": {
    "name": "ipython",
    "version": 3
   },
   "file_extension": ".py",
   "mimetype": "text/x-python",
   "name": "python",
   "nbconvert_exporter": "python",
   "pygments_lexer": "ipython3",
   "version": "3.10.0"
  },
  "orig_nbformat": 4
 },
 "nbformat": 4,
 "nbformat_minor": 2
}
